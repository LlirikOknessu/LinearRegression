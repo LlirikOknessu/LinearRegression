{
 "cells": [
  {
   "cell_type": "code",
   "execution_count": 1,
   "metadata": {},
   "outputs": [
    {
     "name": "stdout",
     "output_type": "stream",
     "text": [
      "TensorFlow version: 2.11.0\n"
     ]
    }
   ],
   "source": [
    "import tensorflow as tf\n",
    "from tensorflow.keras.layers import Dense\n",
    "print(\"TensorFlow version:\", tf.__version__)\n",
    "# Load the TensorBoard notebook extension\n",
    "%load_ext tensorboard\n",
    "import datetime\n",
    "import shutil"
   ]
  },
  {
   "cell_type": "code",
   "execution_count": 2,
   "metadata": {
    "pycharm": {
     "name": "#%%\n"
    }
   },
   "outputs": [],
   "source": [
    " %reload_ext tensorboard\n",
    "from tensorflow.keras import Model\n",
    "from pathlib import Path\n",
    "import pandas as pd"
   ]
  },
  {
   "cell_type": "code",
   "execution_count": 3,
   "metadata": {
    "pycharm": {
     "name": "#%%\n"
    }
   },
   "outputs": [],
   "source": [
    "BATCH_SIZE = 64\n",
    "BUFFER_SIZE = 128\n",
    "LEARNING_RATE = 0.05\n",
    "EPOCHS = 50"
   ]
  },
  {
   "cell_type": "code",
   "execution_count": 4,
   "metadata": {
    "pycharm": {
     "name": "#%%\n"
    }
   },
   "outputs": [],
   "source": [
    "input_dir = Path('./data/prepared')\n",
    "logs_path = Path('./data/logs')\n",
    "if logs_path.exists():\n",
    "  shutil.rmtree(logs_path)\n",
    "logs_path.mkdir(parents=True)\n",
    "\n",
    "X_train_name = input_dir / 'X_train.csv'\n",
    "y_train_name = input_dir / 'y_train.csv'\n",
    "X_test_name = input_dir / 'X_test.csv'\n",
    "y_test_name = input_dir / 'y_test.csv'\n",
    "\n",
    "X_train = pd.read_csv(X_train_name)\n",
    "y_train = pd.read_csv(y_train_name)\n",
    "X_test = pd.read_csv(X_test_name)\n",
    "y_test = pd.read_csv(y_test_name)\n",
    "\n",
    "train_ds = tf.data.Dataset.from_tensor_slices(\n",
    "    (X_train, y_train)).shuffle(BUFFER_SIZE).batch(BATCH_SIZE)\n",
    "\n",
    "test_ds = tf.data.Dataset.from_tensor_slices((X_test, y_test)).batch(BATCH_SIZE)"
   ]
  },
  {
   "cell_type": "code",
   "execution_count": 5,
   "metadata": {
    "pycharm": {
     "name": "#%%\n"
    }
   },
   "outputs": [
    {
     "data": {
      "text/plain": "(436, 8)"
     },
     "execution_count": 5,
     "metadata": {},
     "output_type": "execute_result"
    }
   ],
   "source": [
    "X_train.shape"
   ]
  },
  {
   "cell_type": "code",
   "execution_count": 6,
   "metadata": {
    "pycharm": {
     "name": "#%%\n"
    }
   },
   "outputs": [
    {
     "data": {
      "text/plain": "<BatchDataset element_spec=(TensorSpec(shape=(None, 8), dtype=tf.int64, name=None), TensorSpec(shape=(None, 1), dtype=tf.float64, name=None))>"
     },
     "execution_count": 6,
     "metadata": {},
     "output_type": "execute_result"
    }
   ],
   "source": [
    "train_ds"
   ]
  },
  {
   "cell_type": "code",
   "execution_count": 14,
   "metadata": {
    "pycharm": {
     "name": "#%%\n"
    }
   },
   "outputs": [],
   "source": [
    "class SomeModel(Model):\n",
    "  def __init__(self, hidden_layers=3, neurons_cnt=128):\n",
    "    super(SomeModel, self).__init__()\n",
    "    self.hidden_layers = hidden_layers\n",
    "\n",
    "    self.d_in = Dense(8, activation='relu')\n",
    "    for cnt in range(self.hidden_layers):\n",
    "      self.__dict__[f'd{cnt}'] = Dense(neurons_cnt, activation='relu')\n",
    "    self.d_out = Dense(1)\n",
    "\n",
    "  def call(self, x):\n",
    "    x = self.d_in(x)\n",
    "    for cnt in range(self.hidden_layers):\n",
    "      x = self.getattr(f'd{cnt}')(x)\n",
    "    return self.d2(x)"
   ]
  },
  {
   "cell_type": "code",
   "execution_count": 15,
   "metadata": {
    "pycharm": {
     "name": "#%%\n"
    }
   },
   "outputs": [],
   "source": [
    "# Create an instance of the model\n",
    "model = SomeModel()"
   ]
  },
  {
   "cell_type": "code",
   "execution_count": 17,
   "metadata": {
    "pycharm": {
     "name": "#%%\n"
    }
   },
   "outputs": [
    {
     "data": {
      "text/plain": "<keras.layers.core.dense.Dense at 0x22b98194a90>"
     },
     "execution_count": 17,
     "metadata": {},
     "output_type": "execute_result"
    }
   ],
   "source": [
    "loss_object = tf.keras.losses.MeanSquaredError()\n",
    "optimizer = tf.keras.optimizers.SGD(learning_rate=LEARNING_RATE)\n",
    "getattr(model, 'd2')"
   ]
  },
  {
   "cell_type": "code",
   "execution_count": 16,
   "metadata": {
    "pycharm": {
     "name": "#%%\n"
    }
   },
   "outputs": [],
   "source": [
    "train_loss = tf.keras.metrics.Mean(name='train_loss')\n",
    "train_accuracy = tf.keras.metrics.MeanAbsoluteError(name='train_mae')\n",
    "\n",
    "test_loss = tf.keras.metrics.Mean(name='test_loss')\n",
    "test_accuracy = tf.keras.metrics.MeanAbsoluteError(name='test_mae')"
   ]
  },
  {
   "cell_type": "code",
   "execution_count": 17,
   "metadata": {
    "pycharm": {
     "name": "#%%\n"
    }
   },
   "outputs": [],
   "source": [
    "@tf.function\n",
    "def train_step(input_vector, labels):\n",
    "  with tf.GradientTape() as tape:\n",
    "    # training=True is only needed if there are layers with different\n",
    "    # behavior during training versus inference (e.g. Dropout).\n",
    "    predictions = model(input_vector, training=True)\n",
    "    loss = loss_object(labels, predictions)\n",
    "  gradients = tape.gradient(loss, model.trainable_variables)\n",
    "  optimizer.apply_gradients(zip(gradients, model.trainable_variables))\n",
    "\n",
    "  train_loss(loss)\n",
    "  train_accuracy(labels, predictions)"
   ]
  },
  {
   "cell_type": "code",
   "execution_count": 18,
   "metadata": {
    "pycharm": {
     "name": "#%%\n"
    }
   },
   "outputs": [],
   "source": [
    "@tf.function\n",
    "def test_step(input_vector, labels):\n",
    "  # training=False is only needed if there are layers with different\n",
    "  # behavior during training versus inference (e.g. Dropout).\n",
    "  predictions = model(input_vector, training=False)\n",
    "  t_loss = loss_object(labels, predictions)\n",
    "\n",
    "  test_loss(t_loss)\n",
    "  test_accuracy(labels, predictions)"
   ]
  },
  {
   "cell_type": "code",
   "execution_count": 19,
   "metadata": {
    "pycharm": {
     "name": "#%%\n"
    }
   },
   "outputs": [],
   "source": [
    "from tensorflow import keras"
   ]
  },
  {
   "cell_type": "code",
   "execution_count": 20,
   "metadata": {
    "pycharm": {
     "name": "#%%\n"
    }
   },
   "outputs": [
    {
     "name": "stdout",
     "output_type": "stream",
     "text": [
      "WARNING:tensorflow:From c:\\users\\ru-lo\\pycharmprojects\\linearregressiontpu\\venv\\lib\\site-packages\\tensorflow\\python\\ops\\summary_ops_v2.py:1332: start (from tensorflow.python.eager.profiler) is deprecated and will be removed after 2020-07-01.\n",
      "Instructions for updating:\n",
      "use `tf.profiler.experimental.start` instead.\n",
      "Epoch 1, Loss: 110.58494567871094, Accuracy: 9.363460540771484, Test Loss: 2.1504695415496826, Test MAE: 1.2225948572158813\n",
      "Epoch 2, Loss: 0.9907283186912537, Accuracy: 0.7904427647590637, Test Loss: 0.7129884958267212, Test MAE: 0.6529427170753479\n",
      "Epoch 3, Loss: 0.5725390315055847, Accuracy: 0.5754972696304321, Test Loss: 0.8268589973449707, Test MAE: 0.5893129706382751\n",
      "Epoch 4, Loss: 0.6476150751113892, Accuracy: 0.6240902543067932, Test Loss: 0.8105593323707581, Test MAE: 0.5840927362442017\n",
      "Epoch 5, Loss: 0.647804319858551, Accuracy: 0.6016566157341003, Test Loss: 1.1471900939941406, Test MAE: 0.7461292743682861\n",
      "Epoch 6, Loss: 0.685904860496521, Accuracy: 0.6145110726356506, Test Loss: 0.6916478872299194, Test MAE: 0.5871939659118652\n",
      "Epoch 7, Loss: 0.5783920288085938, Accuracy: 0.5796703100204468, Test Loss: 0.7662931084632874, Test MAE: 0.572924017906189\n",
      "Epoch 8, Loss: 0.7019361853599548, Accuracy: 0.6453238725662231, Test Loss: 0.733765721321106, Test MAE: 0.6762959361076355\n",
      "Epoch 9, Loss: 0.5785743594169617, Accuracy: 0.5811319947242737, Test Loss: 0.8592033982276917, Test MAE: 0.6021685004234314\n",
      "Epoch 10, Loss: 0.6152138710021973, Accuracy: 0.5848360061645508, Test Loss: 0.7103232145309448, Test MAE: 0.6493221521377563\n",
      "Epoch 11, Loss: 0.6213436126708984, Accuracy: 0.5975590944290161, Test Loss: 0.8054629564285278, Test MAE: 0.582868218421936\n",
      "Epoch 12, Loss: 0.7070378661155701, Accuracy: 0.6286612749099731, Test Loss: 0.7861565351486206, Test MAE: 0.7223590612411499\n",
      "Epoch 13, Loss: 0.644507884979248, Accuracy: 0.6101266741752625, Test Loss: 0.7397605180740356, Test MAE: 0.5724365711212158\n",
      "Epoch 14, Loss: 0.7034016251564026, Accuracy: 0.6322645545005798, Test Loss: 0.7229577302932739, Test MAE: 0.6642576456069946\n",
      "Epoch 15, Loss: 0.5785728693008423, Accuracy: 0.574142336845398, Test Loss: 0.7038249373435974, Test MAE: 0.5791262984275818\n",
      "Epoch 16, Loss: 0.5651325583457947, Accuracy: 0.5640611052513123, Test Loss: 0.7160875201225281, Test MAE: 0.6561980843544006\n",
      "Epoch 17, Loss: 0.6781850457191467, Accuracy: 0.6278039813041687, Test Loss: 0.688838005065918, Test MAE: 0.6027191877365112\n",
      "Epoch 18, Loss: 0.5927481651306152, Accuracy: 0.5841050744056702, Test Loss: 0.69481360912323, Test MAE: 0.6228520274162292\n",
      "Epoch 19, Loss: 0.5612010955810547, Accuracy: 0.5676974058151245, Test Loss: 0.7058674097061157, Test MAE: 0.5796152353286743\n",
      "Epoch 20, Loss: 0.5655862092971802, Accuracy: 0.5651023983955383, Test Loss: 0.6963191032409668, Test MAE: 0.5858119130134583\n",
      "Epoch 21, Loss: 0.5762521624565125, Accuracy: 0.582611620426178, Test Loss: 0.8256396651268005, Test MAE: 0.5909913778305054\n",
      "Epoch 22, Loss: 0.9701906442642212, Accuracy: 0.7883539199829102, Test Loss: 0.7242609858512878, Test MAE: 0.6649845242500305\n",
      "Epoch 23, Loss: 0.5705790519714355, Accuracy: 0.5730025172233582, Test Loss: 0.7466346025466919, Test MAE: 0.5761722326278687\n",
      "Epoch 24, Loss: 0.6457375288009644, Accuracy: 0.6199662685394287, Test Loss: 0.6953849792480469, Test MAE: 0.5977202653884888\n",
      "Epoch 25, Loss: 0.637238085269928, Accuracy: 0.6115849614143372, Test Loss: 0.7262788414955139, Test MAE: 0.5799580812454224\n",
      "Epoch 26, Loss: 0.8541135787963867, Accuracy: 0.7113097310066223, Test Loss: 0.9899541139602661, Test MAE: 0.6617340445518494\n",
      "Epoch 27, Loss: 1.0074164867401123, Accuracy: 0.7930429577827454, Test Loss: 1.1604468822479248, Test MAE: 0.9620903134346008\n",
      "Epoch 28, Loss: 0.7377514839172363, Accuracy: 0.6661074161529541, Test Loss: 0.7126474380493164, Test MAE: 0.6474937796592712\n",
      "Epoch 29, Loss: 0.559702455997467, Accuracy: 0.564420759677887, Test Loss: 0.6993424892425537, Test MAE: 0.5810401439666748\n",
      "Epoch 30, Loss: 0.6850888133049011, Accuracy: 0.6337642669677734, Test Loss: 0.894348680973053, Test MAE: 0.6230120062828064\n",
      "Epoch 31, Loss: 0.6893134117126465, Accuracy: 0.6489707827568054, Test Loss: 0.7130613327026367, Test MAE: 0.6610231995582581\n",
      "Epoch 32, Loss: 0.6029077768325806, Accuracy: 0.5809347033500671, Test Loss: 0.8485425114631653, Test MAE: 0.7803059816360474\n",
      "Epoch 33, Loss: 0.5805148482322693, Accuracy: 0.5870655179023743, Test Loss: 0.8531920909881592, Test MAE: 0.608474612236023\n",
      "Epoch 34, Loss: 0.5969110131263733, Accuracy: 0.5923641324043274, Test Loss: 0.8846824169158936, Test MAE: 0.6259630918502808\n",
      "Epoch 35, Loss: 0.701751172542572, Accuracy: 0.6432980895042419, Test Loss: 1.0292744636535645, Test MAE: 0.9130276441574097\n",
      "Epoch 36, Loss: 1.5860697031021118, Accuracy: 1.0667659044265747, Test Loss: 1.919179916381836, Test MAE: 1.1381505727767944\n",
      "Epoch 37, Loss: 1.06723952293396, Accuracy: 0.823058009147644, Test Loss: 0.8426137566566467, Test MAE: 0.7784037590026855\n",
      "Epoch 38, Loss: 0.5161277651786804, Accuracy: 0.5435394644737244, Test Loss: 0.5735073089599609, Test MAE: 0.5439987182617188\n",
      "Epoch 39, Loss: 0.8346432447433472, Accuracy: 0.679637610912323, Test Loss: 1.2826173305511475, Test MAE: 0.8270012140274048\n",
      "Epoch 40, Loss: 0.8947065472602844, Accuracy: 0.7377467155456543, Test Loss: 0.7146112322807312, Test MAE: 0.6716363430023193\n",
      "Epoch 41, Loss: 0.6074467301368713, Accuracy: 0.5832445621490479, Test Loss: 1.5802029371261597, Test MAE: 1.0649422407150269\n",
      "Epoch 42, Loss: 1.6569035053253174, Accuracy: 1.072645902633667, Test Loss: 0.7001622915267944, Test MAE: 0.6372761726379395\n",
      "Epoch 43, Loss: 0.5699804425239563, Accuracy: 0.5697416067123413, Test Loss: 0.6843107342720032, Test MAE: 0.5696523785591125\n",
      "Epoch 44, Loss: 0.5632680058479309, Accuracy: 0.5658712983131409, Test Loss: 1.011303424835205, Test MAE: 0.6908430457115173\n",
      "Epoch 45, Loss: 0.8406945466995239, Accuracy: 0.7248086929321289, Test Loss: 0.7312114834785461, Test MAE: 0.697967529296875\n",
      "Epoch 46, Loss: 0.8103345036506653, Accuracy: 0.6983492374420166, Test Loss: 1.0802078247070312, Test MAE: 0.7443174719810486\n",
      "Epoch 47, Loss: 0.8570889234542847, Accuracy: 0.7333194017410278, Test Loss: 1.398830771446228, Test MAE: 1.0851569175720215\n",
      "Epoch 48, Loss: 1.490728497505188, Accuracy: 1.0599839687347412, Test Loss: 1.4654302597045898, Test MAE: 0.9380442500114441\n",
      "Epoch 49, Loss: 0.994928777217865, Accuracy: 0.8100996017456055, Test Loss: 0.5949509739875793, Test MAE: 0.5292678475379944\n",
      "Epoch 50, Loss: 0.9754478335380554, Accuracy: 0.7749072313308716, Test Loss: 1.031272530555725, Test MAE: 0.9040423631668091\n",
      "WARNING:tensorflow:From c:\\users\\ru-lo\\pycharmprojects\\linearregressiontpu\\venv\\lib\\site-packages\\tensorflow\\python\\ops\\summary_ops_v2.py:1383: stop (from tensorflow.python.eager.profiler) is deprecated and will be removed after 2020-07-01.\n",
      "Instructions for updating:\n",
      "use `tf.profiler.experimental.stop` instead.\n",
      "WARNING:tensorflow:From c:\\users\\ru-lo\\pycharmprojects\\linearregressiontpu\\venv\\lib\\site-packages\\tensorflow\\python\\ops\\summary_ops_v2.py:1383: save (from tensorflow.python.eager.profiler) is deprecated and will be removed after 2020-07-01.\n",
      "Instructions for updating:\n",
      "`tf.python.eager.profiler` has deprecated, use `tf.profiler` instead.\n",
      "WARNING:tensorflow:From c:\\users\\ru-lo\\pycharmprojects\\linearregressiontpu\\venv\\lib\\site-packages\\tensorflow\\python\\eager\\profiler.py:150: maybe_create_event_file (from tensorflow.python.eager.profiler) is deprecated and will be removed after 2020-07-01.\n",
      "Instructions for updating:\n",
      "`tf.python.eager.profiler` has deprecated, use `tf.profiler` instead.\n"
     ]
    }
   ],
   "source": [
    "current_time = datetime.datetime.now().strftime(\"%Y%m%d-%H%M%S\")\n",
    "train_log_dir = logs_path / 'gradient_tape' / current_time / 'train'\n",
    "train_log_dir.mkdir(exist_ok=True, parents=True)\n",
    "test_log_dir = logs_path / 'gradient_tape' / current_time / 'test'\n",
    "test_log_dir.mkdir(exist_ok=True, parents=True)\n",
    "train_summary_writer = tf.summary.create_file_writer(str(train_log_dir))\n",
    "test_summary_writer = tf.summary.create_file_writer(str(test_log_dir))\n",
    "\n",
    "logdir=logs_path / \"fit\" / datetime.datetime.now().strftime(\"%Y%m%d-%H%M%S\")\n",
    "logdir.mkdir(exist_ok=True, parents=True)\n",
    "fit_summary_writer = tf.summary.create_file_writer(str(logdir))\n",
    "\n",
    "tf.summary.trace_on(graph=True, profiler=True)\n",
    "for epoch in range(EPOCHS):\n",
    "  # Reset the metrics at the start of the next epoch\n",
    "  for (x_train, y_train) in train_ds:\n",
    "\n",
    "    with fit_summary_writer.as_default():\n",
    "      train_step(x_train, y_train)\n",
    "\n",
    "\n",
    "  with train_summary_writer.as_default():\n",
    "    tf.summary.scalar('loss', train_loss.result(), step=epoch)\n",
    "    tf.summary.scalar('accuracy', train_accuracy.result(), step=epoch)\n",
    "\n",
    "  for (x_test, y_test) in test_ds:\n",
    "    test_step(x_test, y_test)\n",
    "\n",
    "  with test_summary_writer.as_default():\n",
    "    tf.summary.scalar('loss', test_loss.result(), step=epoch)\n",
    "    tf.summary.scalar('mae', test_accuracy.result(), step=epoch)\n",
    "\n",
    "  template = 'Epoch {}, Loss: {}, Accuracy: {}, Test Loss: {}, Test MAE: {}'\n",
    "  print (template.format(epoch+1,\n",
    "                         train_loss.result(),\n",
    "                         train_accuracy.result(),\n",
    "                         test_loss.result(),\n",
    "                         test_accuracy.result()))\n",
    "\n",
    "  # Reset metrics every epoch\n",
    "  train_loss.reset_states()\n",
    "  test_loss.reset_states()\n",
    "  train_accuracy.reset_states()\n",
    "  test_accuracy.reset_states()\n",
    "\n",
    "with fit_summary_writer.as_default():\n",
    "  tf.summary.trace_export(\n",
    "      name=\"my_func_trace\",\n",
    "      step=0,\n",
    "      profiler_outdir=logdir)"
   ]
  },
  {
   "cell_type": "code",
   "execution_count": 21,
   "metadata": {
    "pycharm": {
     "name": "#%%\n"
    }
   },
   "outputs": [
    {
     "name": "stdout",
     "output_type": "stream",
     "text": [
      "INFO:tensorflow:Assets written to: ./data/models/mymodel\\assets\n"
     ]
    }
   ],
   "source": [
    "model.save('./data/models/mymodel')"
   ]
  },
  {
   "cell_type": "code",
   "execution_count": 22,
   "metadata": {
    "pycharm": {
     "name": "#%%\n"
    }
   },
   "outputs": [
    {
     "name": "stdout",
     "output_type": "stream",
     "text": [
      "WARNING:tensorflow:No training configuration found in save file, so the model was *not* compiled. Compile it manually.\n"
     ]
    }
   ],
   "source": [
    "loaded_model = keras.models.load_model('./data/models/mymodel')"
   ]
  },
  {
   "cell_type": "code",
   "execution_count": 25,
   "metadata": {
    "pycharm": {
     "name": "#%%\n"
    }
   },
   "outputs": [
    {
     "data": {
      "text/plain": "<keras.saving.legacy.saved_model.load.SomeModel at 0x25f94bab4c0>"
     },
     "execution_count": 25,
     "metadata": {},
     "output_type": "execute_result"
    }
   ],
   "source": [
    "loaded_model"
   ]
  },
  {
   "cell_type": "code",
   "execution_count": 24,
   "outputs": [
    {
     "data": {
      "text/plain": "<__main__.SomeModel at 0x25f94baabc0>"
     },
     "execution_count": 24,
     "metadata": {},
     "output_type": "execute_result"
    }
   ],
   "source": [
    "model"
   ],
   "metadata": {
    "collapsed": false,
    "pycharm": {
     "name": "#%%\n"
    }
   }
  },
  {
   "cell_type": "code",
   "execution_count": 26,
   "metadata": {
    "pycharm": {
     "name": "#%%\n"
    }
   },
   "outputs": [
    {
     "name": "stdout",
     "output_type": "stream",
     "text": [
      "4/4 [==============================] - 0s 3ms/step\n",
      "4/4 [==============================] - 0s 5ms/step\n"
     ]
    },
    {
     "data": {
      "text/plain": "Launching TensorBoard..."
     },
     "metadata": {},
     "output_type": "display_data"
    }
   ],
   "source": [
    "# Let's check:\n",
    "import numpy as np\n",
    "np.testing.assert_allclose(\n",
    "    model.predict(X_test), loaded_model.predict(X_test)\n",
    ")\n",
    "%tensorboard --logdir ./data/logs"
   ]
  },
  {
   "cell_type": "code",
   "execution_count": 19,
   "metadata": {
    "pycharm": {
     "name": "#%%\n"
    }
   },
   "outputs": [
    {
     "data": {
      "text/plain": "Launching TensorBoard..."
     },
     "metadata": {},
     "output_type": "display_data"
    }
   ],
   "source": [
    "%tensorboard --logdir ./data/logs/gradient_tape"
   ]
  },
  {
   "cell_type": "code",
   "execution_count": 19,
   "metadata": {
    "pycharm": {
     "name": "#%%\n"
    }
   },
   "outputs": [],
   "source": []
  }
 ],
 "metadata": {
  "kernelspec": {
   "display_name": "Python 3 (ipykernel)",
   "language": "python",
   "name": "python3"
  },
  "language_info": {
   "codemirror_mode": {
    "name": "ipython",
    "version": 3
   },
   "file_extension": ".py",
   "mimetype": "text/x-python",
   "name": "python",
   "nbconvert_exporter": "python",
   "pygments_lexer": "ipython3",
   "version": "3.10.2"
  }
 },
 "nbformat": 4,
 "nbformat_minor": 1
}