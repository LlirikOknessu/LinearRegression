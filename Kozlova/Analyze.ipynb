{
 "cells": [
  {
   "cell_type": "code",
   "execution_count": 3,
   "metadata": {
    "collapsed": true
   },
   "outputs": [],
   "source": [
    "import pandas as pd\n",
    "import matplotlib.pyplot as plt\n",
    "from pathlib import Path"
   ]
  },
  {
   "cell_type": "code",
   "execution_count": 1,
   "outputs": [
    {
     "ename": "NameError",
     "evalue": "name 'Path' is not defined",
     "output_type": "error",
     "traceback": [
      "\u001B[1;31m---------------------------------------------------------------------------\u001B[0m",
      "\u001B[1;31mNameError\u001B[0m                                 Traceback (most recent call last)",
      "Cell \u001B[1;32mIn [1], line 1\u001B[0m\n\u001B[1;32m----> 1\u001B[0m input_path \u001B[38;5;241m=\u001B[39m \u001B[43mPath\u001B[49m(\u001B[38;5;124m'\u001B[39m\u001B[38;5;124m../Kozlova/data/raw/life_expectancy_data.csv\u001B[39m\u001B[38;5;124m'\u001B[39m)\n",
      "\u001B[1;31mNameError\u001B[0m: name 'Path' is not defined"
     ]
    }
   ],
   "source": [
    "input_path = Path('../Kozlova/data/raw/life_expectancy_data.csv')"
   ],
   "metadata": {
    "collapsed": false
   }
  },
  {
   "cell_type": "code",
   "execution_count": 11,
   "outputs": [],
   "source": [
    "df = pd.read_csv(input_path)"
   ],
   "metadata": {
    "collapsed": false
   }
  },
  {
   "cell_type": "code",
   "execution_count": 34,
   "outputs": [
    {
     "data": {
      "text/plain": "   Country  Year      Status  Life expectancy   Adult Mortality  \\\n0        0  2015  Developing              65.0            263.0   \n1        0  2014  Developing              59.9            271.0   \n2        0  2013  Developing              59.9            268.0   \n3        0  2012  Developing              59.5            272.0   \n4        0  2011  Developing              59.2            275.0   \n5        0  2010  Developing              58.8            279.0   \n6        0  2009  Developing              58.6            281.0   \n7        0  2008  Developing              58.1            287.0   \n8        0  2006  Developing              57.3            295.0   \n9        0  2005  Developing              57.3            291.0   \n\n   infant deaths  Alcohol  percentage expenditure  Hepatitis B  Measles   ...  \\\n0             62     0.01               71.279624         65.0      1154  ...   \n1             64     0.01               73.523582         62.0       492  ...   \n2             66     0.01               73.219243         64.0       430  ...   \n3             69     0.01               78.184215         67.0      2787  ...   \n4             71     0.01                7.097109         68.0      3013  ...   \n5             74     0.01               79.679367         66.0      1989  ...   \n6             77     0.01               56.762217         63.0      2861  ...   \n7             80     0.03               25.873925         64.0      1599  ...   \n8             84     0.03               17.171518         64.0      1990  ...   \n9             85     0.02                1.388648         66.0      1296  ...   \n\n   Polio  Total expenditure  Diphtheria    HIV/AIDS         GDP  Population  \\\n0    6.0               8.16         65.0        0.1  584.259210  33736494.0   \n1   58.0               8.18         62.0        0.1  612.696514    327582.0   \n2   62.0               8.13         64.0        0.1  631.744976  31731688.0   \n3   67.0               8.52         67.0        0.1  669.959000   3696958.0   \n4   68.0               7.87         68.0        0.1   63.537231   2978599.0   \n5   66.0               9.20         66.0        0.1  553.328940   2883167.0   \n6   63.0               9.42         63.0        0.1  445.893298    284331.0   \n7   64.0               8.33         64.0        0.1  373.361116   2729431.0   \n8   58.0               7.43         58.0        0.1  272.563770   2589345.0   \n9   58.0               8.70         58.0        0.1   25.294130    257798.0   \n\n    thinness  1-19 years   thinness 5-9 years  \\\n0                   17.2                 17.3   \n1                   17.5                 17.5   \n2                   17.7                 17.7   \n3                   17.9                 18.0   \n4                   18.2                 18.2   \n5                   18.4                 18.4   \n6                   18.6                 18.7   \n7                   18.8                 18.9   \n8                   19.2                 19.3   \n9                   19.3                 19.5   \n\n   Income composition of resources  Schooling  \n0                            0.479       10.1  \n1                            0.476       10.0  \n2                            0.470        9.9  \n3                            0.463        9.8  \n4                            0.454        9.5  \n5                            0.448        9.2  \n6                            0.434        8.9  \n7                            0.433        8.7  \n8                            0.405        8.1  \n9                            0.396        7.9  \n\n[10 rows x 22 columns]",
      "text/html": "<div>\n<style scoped>\n    .dataframe tbody tr th:only-of-type {\n        vertical-align: middle;\n    }\n\n    .dataframe tbody tr th {\n        vertical-align: top;\n    }\n\n    .dataframe thead th {\n        text-align: right;\n    }\n</style>\n<table border=\"1\" class=\"dataframe\">\n  <thead>\n    <tr style=\"text-align: right;\">\n      <th></th>\n      <th>Country</th>\n      <th>Year</th>\n      <th>Status</th>\n      <th>Life expectancy</th>\n      <th>Adult Mortality</th>\n      <th>infant deaths</th>\n      <th>Alcohol</th>\n      <th>percentage expenditure</th>\n      <th>Hepatitis B</th>\n      <th>Measles</th>\n      <th>...</th>\n      <th>Polio</th>\n      <th>Total expenditure</th>\n      <th>Diphtheria</th>\n      <th>HIV/AIDS</th>\n      <th>GDP</th>\n      <th>Population</th>\n      <th>thinness  1-19 years</th>\n      <th>thinness 5-9 years</th>\n      <th>Income composition of resources</th>\n      <th>Schooling</th>\n    </tr>\n  </thead>\n  <tbody>\n    <tr>\n      <th>0</th>\n      <td>0</td>\n      <td>2015</td>\n      <td>Developing</td>\n      <td>65.0</td>\n      <td>263.0</td>\n      <td>62</td>\n      <td>0.01</td>\n      <td>71.279624</td>\n      <td>65.0</td>\n      <td>1154</td>\n      <td>...</td>\n      <td>6.0</td>\n      <td>8.16</td>\n      <td>65.0</td>\n      <td>0.1</td>\n      <td>584.259210</td>\n      <td>33736494.0</td>\n      <td>17.2</td>\n      <td>17.3</td>\n      <td>0.479</td>\n      <td>10.1</td>\n    </tr>\n    <tr>\n      <th>1</th>\n      <td>0</td>\n      <td>2014</td>\n      <td>Developing</td>\n      <td>59.9</td>\n      <td>271.0</td>\n      <td>64</td>\n      <td>0.01</td>\n      <td>73.523582</td>\n      <td>62.0</td>\n      <td>492</td>\n      <td>...</td>\n      <td>58.0</td>\n      <td>8.18</td>\n      <td>62.0</td>\n      <td>0.1</td>\n      <td>612.696514</td>\n      <td>327582.0</td>\n      <td>17.5</td>\n      <td>17.5</td>\n      <td>0.476</td>\n      <td>10.0</td>\n    </tr>\n    <tr>\n      <th>2</th>\n      <td>0</td>\n      <td>2013</td>\n      <td>Developing</td>\n      <td>59.9</td>\n      <td>268.0</td>\n      <td>66</td>\n      <td>0.01</td>\n      <td>73.219243</td>\n      <td>64.0</td>\n      <td>430</td>\n      <td>...</td>\n      <td>62.0</td>\n      <td>8.13</td>\n      <td>64.0</td>\n      <td>0.1</td>\n      <td>631.744976</td>\n      <td>31731688.0</td>\n      <td>17.7</td>\n      <td>17.7</td>\n      <td>0.470</td>\n      <td>9.9</td>\n    </tr>\n    <tr>\n      <th>3</th>\n      <td>0</td>\n      <td>2012</td>\n      <td>Developing</td>\n      <td>59.5</td>\n      <td>272.0</td>\n      <td>69</td>\n      <td>0.01</td>\n      <td>78.184215</td>\n      <td>67.0</td>\n      <td>2787</td>\n      <td>...</td>\n      <td>67.0</td>\n      <td>8.52</td>\n      <td>67.0</td>\n      <td>0.1</td>\n      <td>669.959000</td>\n      <td>3696958.0</td>\n      <td>17.9</td>\n      <td>18.0</td>\n      <td>0.463</td>\n      <td>9.8</td>\n    </tr>\n    <tr>\n      <th>4</th>\n      <td>0</td>\n      <td>2011</td>\n      <td>Developing</td>\n      <td>59.2</td>\n      <td>275.0</td>\n      <td>71</td>\n      <td>0.01</td>\n      <td>7.097109</td>\n      <td>68.0</td>\n      <td>3013</td>\n      <td>...</td>\n      <td>68.0</td>\n      <td>7.87</td>\n      <td>68.0</td>\n      <td>0.1</td>\n      <td>63.537231</td>\n      <td>2978599.0</td>\n      <td>18.2</td>\n      <td>18.2</td>\n      <td>0.454</td>\n      <td>9.5</td>\n    </tr>\n    <tr>\n      <th>5</th>\n      <td>0</td>\n      <td>2010</td>\n      <td>Developing</td>\n      <td>58.8</td>\n      <td>279.0</td>\n      <td>74</td>\n      <td>0.01</td>\n      <td>79.679367</td>\n      <td>66.0</td>\n      <td>1989</td>\n      <td>...</td>\n      <td>66.0</td>\n      <td>9.20</td>\n      <td>66.0</td>\n      <td>0.1</td>\n      <td>553.328940</td>\n      <td>2883167.0</td>\n      <td>18.4</td>\n      <td>18.4</td>\n      <td>0.448</td>\n      <td>9.2</td>\n    </tr>\n    <tr>\n      <th>6</th>\n      <td>0</td>\n      <td>2009</td>\n      <td>Developing</td>\n      <td>58.6</td>\n      <td>281.0</td>\n      <td>77</td>\n      <td>0.01</td>\n      <td>56.762217</td>\n      <td>63.0</td>\n      <td>2861</td>\n      <td>...</td>\n      <td>63.0</td>\n      <td>9.42</td>\n      <td>63.0</td>\n      <td>0.1</td>\n      <td>445.893298</td>\n      <td>284331.0</td>\n      <td>18.6</td>\n      <td>18.7</td>\n      <td>0.434</td>\n      <td>8.9</td>\n    </tr>\n    <tr>\n      <th>7</th>\n      <td>0</td>\n      <td>2008</td>\n      <td>Developing</td>\n      <td>58.1</td>\n      <td>287.0</td>\n      <td>80</td>\n      <td>0.03</td>\n      <td>25.873925</td>\n      <td>64.0</td>\n      <td>1599</td>\n      <td>...</td>\n      <td>64.0</td>\n      <td>8.33</td>\n      <td>64.0</td>\n      <td>0.1</td>\n      <td>373.361116</td>\n      <td>2729431.0</td>\n      <td>18.8</td>\n      <td>18.9</td>\n      <td>0.433</td>\n      <td>8.7</td>\n    </tr>\n    <tr>\n      <th>8</th>\n      <td>0</td>\n      <td>2006</td>\n      <td>Developing</td>\n      <td>57.3</td>\n      <td>295.0</td>\n      <td>84</td>\n      <td>0.03</td>\n      <td>17.171518</td>\n      <td>64.0</td>\n      <td>1990</td>\n      <td>...</td>\n      <td>58.0</td>\n      <td>7.43</td>\n      <td>58.0</td>\n      <td>0.1</td>\n      <td>272.563770</td>\n      <td>2589345.0</td>\n      <td>19.2</td>\n      <td>19.3</td>\n      <td>0.405</td>\n      <td>8.1</td>\n    </tr>\n    <tr>\n      <th>9</th>\n      <td>0</td>\n      <td>2005</td>\n      <td>Developing</td>\n      <td>57.3</td>\n      <td>291.0</td>\n      <td>85</td>\n      <td>0.02</td>\n      <td>1.388648</td>\n      <td>66.0</td>\n      <td>1296</td>\n      <td>...</td>\n      <td>58.0</td>\n      <td>8.70</td>\n      <td>58.0</td>\n      <td>0.1</td>\n      <td>25.294130</td>\n      <td>257798.0</td>\n      <td>19.3</td>\n      <td>19.5</td>\n      <td>0.396</td>\n      <td>7.9</td>\n    </tr>\n  </tbody>\n</table>\n<p>10 rows × 22 columns</p>\n</div>"
     },
     "execution_count": 34,
     "metadata": {},
     "output_type": "execute_result"
    }
   ],
   "source": [
    "df.head(10)"
   ],
   "metadata": {
    "collapsed": false
   }
  },
  {
   "cell_type": "code",
   "execution_count": 13,
   "outputs": [
    {
     "name": "stdout",
     "output_type": "stream",
     "text": [
      "<class 'pandas.core.frame.DataFrame'>\n",
      "RangeIndex: 2732 entries, 0 to 2731\n",
      "Data columns (total 22 columns):\n",
      " #   Column                           Non-Null Count  Dtype  \n",
      "---  ------                           --------------  -----  \n",
      " 0   Country                          2732 non-null   object \n",
      " 1   Year                             2732 non-null   int64  \n",
      " 2   Status                           2732 non-null   object \n",
      " 3   Life expectancy                  2724 non-null   float64\n",
      " 4   Adult Mortality                  2724 non-null   float64\n",
      " 5   infant deaths                    2732 non-null   int64  \n",
      " 6   Alcohol                          2547 non-null   float64\n",
      " 7   percentage expenditure           2732 non-null   float64\n",
      " 8   Hepatitis B                      2207 non-null   float64\n",
      " 9   Measles                          2732 non-null   int64  \n",
      " 10   BMI                             2699 non-null   float64\n",
      " 11  under-five deaths                2732 non-null   int64  \n",
      " 12  Polio                            2714 non-null   float64\n",
      " 13  Total expenditure                2517 non-null   float64\n",
      " 14  Diphtheria                       2714 non-null   float64\n",
      " 15   HIV/AIDS                        2732 non-null   float64\n",
      " 16  GDP                              2317 non-null   float64\n",
      " 17  Population                       2128 non-null   float64\n",
      " 18   thinness  1-19 years            2699 non-null   float64\n",
      " 19   thinness 5-9 years              2699 non-null   float64\n",
      " 20  Income composition of resources  2577 non-null   float64\n",
      " 21  Schooling                        2581 non-null   float64\n",
      "dtypes: float64(16), int64(4), object(2)\n",
      "memory usage: 469.7+ KB\n"
     ]
    }
   ],
   "source": [
    "df.info()"
   ],
   "metadata": {
    "collapsed": false
   }
  },
  {
   "cell_type": "code",
   "execution_count": 14,
   "outputs": [
    {
     "data": {
      "text/plain": "       Country         Year      Status  Life expectancy   Adult Mortality  \\\ncount     2732  2732.000000        2732       2724.000000      2724.000000   \nunique     191          NaN           2               NaN              NaN   \ntop     Guinea          NaN  Developing               NaN              NaN   \nfreq        16          NaN        2271               NaN              NaN   \nmean       NaN  2007.501098         NaN         69.120228       165.923642   \nstd        NaN     4.626314         NaN          9.511317       123.837567   \nmin        NaN  2000.000000         NaN         36.300000         1.000000   \n25%        NaN  2003.000000         NaN         63.000000        75.000000   \n50%        NaN  2007.000000         NaN         72.000000       145.000000   \n75%        NaN  2012.000000         NaN         75.600000       228.250000   \nmax        NaN  2015.000000         NaN         89.000000       723.000000   \n\n        infant deaths      Alcohol  percentage expenditure  Hepatitis B  \\\ncount     2732.000000  2547.000000             2732.000000  2207.000000   \nunique            NaN          NaN                     NaN          NaN   \ntop               NaN          NaN                     NaN          NaN   \nfreq              NaN          NaN                     NaN          NaN   \nmean        30.588946     4.555748              727.049563    80.860897   \nstd        118.158278     4.034548             1974.303746    25.130776   \nmin          0.000000     0.010000                0.000000     1.000000   \n25%          0.000000     0.850000                4.595646    77.000000   \n50%          3.000000     3.650000               64.395284    92.000000   \n75%         23.000000     7.600000              437.086674    97.000000   \nmax       1800.000000    17.870000            19479.911610    99.000000   \n\n             Measles   ...        Polio  Total expenditure  Diphtheria   \\\ncount     2732.000000  ...  2714.000000        2517.000000  2714.000000   \nunique            NaN  ...          NaN                NaN          NaN   \ntop               NaN  ...          NaN                NaN          NaN   \nfreq              NaN  ...          NaN                NaN          NaN   \nmean      2430.580527  ...    82.409359           5.946007    82.273397   \nstd      11240.642911  ...    23.421806           2.506294    23.628897   \nmin          0.000000  ...     3.000000           0.370000     2.000000   \n25%          0.000000  ...    77.000000           4.280000    78.000000   \n50%         17.000000  ...    93.000000           5.730000    93.000000   \n75%        370.500000  ...    97.000000           7.500000    97.000000   \nmax     212183.000000  ...    99.000000          17.600000    99.000000   \n\n           HIV/AIDS            GDP    Population   thinness  1-19 years  \\\ncount   2732.000000    2317.000000  2.128000e+03            2699.000000   \nunique          NaN            NaN           NaN                    NaN   \ntop             NaN            NaN           NaN                    NaN   \nfreq            NaN            NaN           NaN                    NaN   \nmean       1.722328    7316.813082  1.245470e+07               4.903927   \nstd        4.962085   14020.856082  5.761456e+07               4.448684   \nmin        0.100000       1.681350  3.400000e+01               0.100000   \n25%        0.100000     464.184650  1.917392e+05               1.600000   \n50%        0.100000    1741.142552  1.383743e+06               3.400000   \n75%        0.800000    5828.745662  7.475598e+06               7.200000   \nmax       50.600000  119172.741800  1.293859e+09              27.700000   \n\n         thinness 5-9 years  Income composition of resources    Schooling  \ncount           2699.000000                      2577.000000  2581.000000  \nunique                  NaN                              NaN          NaN  \ntop                     NaN                              NaN          NaN  \nfreq                    NaN                              NaN          NaN  \nmean               4.935495                         0.624236    11.951724  \nstd                4.540056                         0.211894     3.376084  \nmin                0.100000                         0.000000     0.000000  \n25%                1.600000                         0.489000    10.100000  \n50%                3.400000                         0.675000    12.300000  \n75%                7.300000                         0.776000    14.200000  \nmax               28.600000                         0.948000    20.700000  \n\n[11 rows x 22 columns]",
      "text/html": "<div>\n<style scoped>\n    .dataframe tbody tr th:only-of-type {\n        vertical-align: middle;\n    }\n\n    .dataframe tbody tr th {\n        vertical-align: top;\n    }\n\n    .dataframe thead th {\n        text-align: right;\n    }\n</style>\n<table border=\"1\" class=\"dataframe\">\n  <thead>\n    <tr style=\"text-align: right;\">\n      <th></th>\n      <th>Country</th>\n      <th>Year</th>\n      <th>Status</th>\n      <th>Life expectancy</th>\n      <th>Adult Mortality</th>\n      <th>infant deaths</th>\n      <th>Alcohol</th>\n      <th>percentage expenditure</th>\n      <th>Hepatitis B</th>\n      <th>Measles</th>\n      <th>...</th>\n      <th>Polio</th>\n      <th>Total expenditure</th>\n      <th>Diphtheria</th>\n      <th>HIV/AIDS</th>\n      <th>GDP</th>\n      <th>Population</th>\n      <th>thinness  1-19 years</th>\n      <th>thinness 5-9 years</th>\n      <th>Income composition of resources</th>\n      <th>Schooling</th>\n    </tr>\n  </thead>\n  <tbody>\n    <tr>\n      <th>count</th>\n      <td>2732</td>\n      <td>2732.000000</td>\n      <td>2732</td>\n      <td>2724.000000</td>\n      <td>2724.000000</td>\n      <td>2732.000000</td>\n      <td>2547.000000</td>\n      <td>2732.000000</td>\n      <td>2207.000000</td>\n      <td>2732.000000</td>\n      <td>...</td>\n      <td>2714.000000</td>\n      <td>2517.000000</td>\n      <td>2714.000000</td>\n      <td>2732.000000</td>\n      <td>2317.000000</td>\n      <td>2.128000e+03</td>\n      <td>2699.000000</td>\n      <td>2699.000000</td>\n      <td>2577.000000</td>\n      <td>2581.000000</td>\n    </tr>\n    <tr>\n      <th>unique</th>\n      <td>191</td>\n      <td>NaN</td>\n      <td>2</td>\n      <td>NaN</td>\n      <td>NaN</td>\n      <td>NaN</td>\n      <td>NaN</td>\n      <td>NaN</td>\n      <td>NaN</td>\n      <td>NaN</td>\n      <td>...</td>\n      <td>NaN</td>\n      <td>NaN</td>\n      <td>NaN</td>\n      <td>NaN</td>\n      <td>NaN</td>\n      <td>NaN</td>\n      <td>NaN</td>\n      <td>NaN</td>\n      <td>NaN</td>\n      <td>NaN</td>\n    </tr>\n    <tr>\n      <th>top</th>\n      <td>Guinea</td>\n      <td>NaN</td>\n      <td>Developing</td>\n      <td>NaN</td>\n      <td>NaN</td>\n      <td>NaN</td>\n      <td>NaN</td>\n      <td>NaN</td>\n      <td>NaN</td>\n      <td>NaN</td>\n      <td>...</td>\n      <td>NaN</td>\n      <td>NaN</td>\n      <td>NaN</td>\n      <td>NaN</td>\n      <td>NaN</td>\n      <td>NaN</td>\n      <td>NaN</td>\n      <td>NaN</td>\n      <td>NaN</td>\n      <td>NaN</td>\n    </tr>\n    <tr>\n      <th>freq</th>\n      <td>16</td>\n      <td>NaN</td>\n      <td>2271</td>\n      <td>NaN</td>\n      <td>NaN</td>\n      <td>NaN</td>\n      <td>NaN</td>\n      <td>NaN</td>\n      <td>NaN</td>\n      <td>NaN</td>\n      <td>...</td>\n      <td>NaN</td>\n      <td>NaN</td>\n      <td>NaN</td>\n      <td>NaN</td>\n      <td>NaN</td>\n      <td>NaN</td>\n      <td>NaN</td>\n      <td>NaN</td>\n      <td>NaN</td>\n      <td>NaN</td>\n    </tr>\n    <tr>\n      <th>mean</th>\n      <td>NaN</td>\n      <td>2007.501098</td>\n      <td>NaN</td>\n      <td>69.120228</td>\n      <td>165.923642</td>\n      <td>30.588946</td>\n      <td>4.555748</td>\n      <td>727.049563</td>\n      <td>80.860897</td>\n      <td>2430.580527</td>\n      <td>...</td>\n      <td>82.409359</td>\n      <td>5.946007</td>\n      <td>82.273397</td>\n      <td>1.722328</td>\n      <td>7316.813082</td>\n      <td>1.245470e+07</td>\n      <td>4.903927</td>\n      <td>4.935495</td>\n      <td>0.624236</td>\n      <td>11.951724</td>\n    </tr>\n    <tr>\n      <th>std</th>\n      <td>NaN</td>\n      <td>4.626314</td>\n      <td>NaN</td>\n      <td>9.511317</td>\n      <td>123.837567</td>\n      <td>118.158278</td>\n      <td>4.034548</td>\n      <td>1974.303746</td>\n      <td>25.130776</td>\n      <td>11240.642911</td>\n      <td>...</td>\n      <td>23.421806</td>\n      <td>2.506294</td>\n      <td>23.628897</td>\n      <td>4.962085</td>\n      <td>14020.856082</td>\n      <td>5.761456e+07</td>\n      <td>4.448684</td>\n      <td>4.540056</td>\n      <td>0.211894</td>\n      <td>3.376084</td>\n    </tr>\n    <tr>\n      <th>min</th>\n      <td>NaN</td>\n      <td>2000.000000</td>\n      <td>NaN</td>\n      <td>36.300000</td>\n      <td>1.000000</td>\n      <td>0.000000</td>\n      <td>0.010000</td>\n      <td>0.000000</td>\n      <td>1.000000</td>\n      <td>0.000000</td>\n      <td>...</td>\n      <td>3.000000</td>\n      <td>0.370000</td>\n      <td>2.000000</td>\n      <td>0.100000</td>\n      <td>1.681350</td>\n      <td>3.400000e+01</td>\n      <td>0.100000</td>\n      <td>0.100000</td>\n      <td>0.000000</td>\n      <td>0.000000</td>\n    </tr>\n    <tr>\n      <th>25%</th>\n      <td>NaN</td>\n      <td>2003.000000</td>\n      <td>NaN</td>\n      <td>63.000000</td>\n      <td>75.000000</td>\n      <td>0.000000</td>\n      <td>0.850000</td>\n      <td>4.595646</td>\n      <td>77.000000</td>\n      <td>0.000000</td>\n      <td>...</td>\n      <td>77.000000</td>\n      <td>4.280000</td>\n      <td>78.000000</td>\n      <td>0.100000</td>\n      <td>464.184650</td>\n      <td>1.917392e+05</td>\n      <td>1.600000</td>\n      <td>1.600000</td>\n      <td>0.489000</td>\n      <td>10.100000</td>\n    </tr>\n    <tr>\n      <th>50%</th>\n      <td>NaN</td>\n      <td>2007.000000</td>\n      <td>NaN</td>\n      <td>72.000000</td>\n      <td>145.000000</td>\n      <td>3.000000</td>\n      <td>3.650000</td>\n      <td>64.395284</td>\n      <td>92.000000</td>\n      <td>17.000000</td>\n      <td>...</td>\n      <td>93.000000</td>\n      <td>5.730000</td>\n      <td>93.000000</td>\n      <td>0.100000</td>\n      <td>1741.142552</td>\n      <td>1.383743e+06</td>\n      <td>3.400000</td>\n      <td>3.400000</td>\n      <td>0.675000</td>\n      <td>12.300000</td>\n    </tr>\n    <tr>\n      <th>75%</th>\n      <td>NaN</td>\n      <td>2012.000000</td>\n      <td>NaN</td>\n      <td>75.600000</td>\n      <td>228.250000</td>\n      <td>23.000000</td>\n      <td>7.600000</td>\n      <td>437.086674</td>\n      <td>97.000000</td>\n      <td>370.500000</td>\n      <td>...</td>\n      <td>97.000000</td>\n      <td>7.500000</td>\n      <td>97.000000</td>\n      <td>0.800000</td>\n      <td>5828.745662</td>\n      <td>7.475598e+06</td>\n      <td>7.200000</td>\n      <td>7.300000</td>\n      <td>0.776000</td>\n      <td>14.200000</td>\n    </tr>\n    <tr>\n      <th>max</th>\n      <td>NaN</td>\n      <td>2015.000000</td>\n      <td>NaN</td>\n      <td>89.000000</td>\n      <td>723.000000</td>\n      <td>1800.000000</td>\n      <td>17.870000</td>\n      <td>19479.911610</td>\n      <td>99.000000</td>\n      <td>212183.000000</td>\n      <td>...</td>\n      <td>99.000000</td>\n      <td>17.600000</td>\n      <td>99.000000</td>\n      <td>50.600000</td>\n      <td>119172.741800</td>\n      <td>1.293859e+09</td>\n      <td>27.700000</td>\n      <td>28.600000</td>\n      <td>0.948000</td>\n      <td>20.700000</td>\n    </tr>\n  </tbody>\n</table>\n<p>11 rows × 22 columns</p>\n</div>"
     },
     "execution_count": 14,
     "metadata": {},
     "output_type": "execute_result"
    }
   ],
   "source": [
    "df.describe(include=\"all\")"
   ],
   "metadata": {
    "collapsed": false
   }
  },
  {
   "cell_type": "code",
   "execution_count": 1,
   "outputs": [
    {
     "ename": "NameError",
     "evalue": "name 'df' is not defined",
     "output_type": "error",
     "traceback": [
      "\u001B[1;31m---------------------------------------------------------------------------\u001B[0m",
      "\u001B[1;31mNameError\u001B[0m                                 Traceback (most recent call last)",
      "Cell \u001B[1;32mIn [1], line 1\u001B[0m\n\u001B[1;32m----> 1\u001B[0m \u001B[43mdf\u001B[49m\n",
      "\u001B[1;31mNameError\u001B[0m: name 'df' is not defined"
     ]
    }
   ],
   "source": [
    "df"
   ],
   "metadata": {
    "collapsed": false
   }
  },
  {
   "cell_type": "code",
   "execution_count": 18,
   "outputs": [
    {
     "data": {
      "text/plain": "array(['Developing', 'Developed'], dtype=object)"
     },
     "execution_count": 18,
     "metadata": {},
     "output_type": "execute_result"
    }
   ],
   "source": [
    "df['Status'].unique()"
   ],
   "metadata": {
    "collapsed": false
   }
  },
  {
   "cell_type": "code",
   "execution_count": 19,
   "outputs": [
    {
     "data": {
      "text/plain": "461"
     },
     "execution_count": 19,
     "metadata": {},
     "output_type": "execute_result"
    }
   ],
   "source": [
    "df['Status'].loc[df['Status']== 'Developed'].count()"
   ],
   "metadata": {
    "collapsed": false
   }
  },
  {
   "cell_type": "code",
   "execution_count": 28,
   "outputs": [
    {
     "name": "stdout",
     "output_type": "stream",
     "text": [
      "['Developing' 'Developed']\n",
      "[0, 0]\n"
     ]
    },
    {
     "data": {
      "text/plain": "<BarContainer object of 2 artists>"
     },
     "execution_count": 28,
     "metadata": {},
     "output_type": "execute_result"
    },
    {
     "data": {
      "text/plain": "<Figure size 640x480 with 1 Axes>",
      "image/png": "[encoded data removed]"
     },
     "metadata": {},
     "output_type": "display_data"
    }
   ],
   "source": [
    "values = []\n",
    "levels = df['Status'].unique()\n",
    "for level in df['Status'].unique():\n",
    "    values.append(df['Country'].loc[df['Country'] == level].count())\n",
    "print(levels)\n",
    "print(values)\n",
    "plt.bar(levels, values)"
   ],
   "metadata": {
    "collapsed": false
   }
  }
 ],
 "metadata": {
  "kernelspec": {
   "display_name": "Python 3",
   "language": "python",
   "name": "python3"
  },
  "language_info": {
   "codemirror_mode": {
    "name": "ipython",
    "version": 2
   },
   "file_extension": ".py",
   "mimetype": "text/x-python",
   "name": "python",
   "nbconvert_exporter": "python",
   "pygments_lexer": "ipython2",
   "version": "2.7.6"
  }
 },
 "nbformat": 4,
 "nbformat_minor": 0
}
